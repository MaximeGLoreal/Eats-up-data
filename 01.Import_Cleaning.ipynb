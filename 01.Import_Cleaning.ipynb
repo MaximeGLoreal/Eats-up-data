{
 "cells": [
  {
   "cell_type": "code",
   "execution_count": 1,
   "id": "0dd91c14",
   "metadata": {},
   "outputs": [],
   "source": [
    "# librairies classiques \n",
    "import numpy as np\n",
    "import pandas as pd"
   ]
  },
  {
   "cell_type": "code",
   "execution_count": 14,
   "id": "e3d2cd43",
   "metadata": {},
   "outputs": [],
   "source": [
    "# load train and test data sur google colab\n",
    "test = pd.read_csv(\"https://docs.google.com/spreadsheets/d/17z5y4Ggg18aRC9o7dqeHjkzzb70pIIqmwSmGU_-8R20/edit#gid=184236824\",on_bad_lines='skip')\n",
    "#pos_train = pd.read_csv(\"https://drive.google.com/uc?export=view&id=1Z2vGocoJFhL9H7VuygXBErvU1XKuhhcg\")\n",
    "#df_mess_test = pd.read_csv(\"https://drive.google.com/uc?export=view&id=1ZmIYzJm2Y4UxSg7oo69Y7DSCUvOvDzjl\")"
   ]
  },
  {
   "cell_type": "code",
   "execution_count": 15,
   "id": "58ef49b6",
   "metadata": {},
   "outputs": [
    {
     "data": {
      "text/html": [
       "<div>\n",
       "<style scoped>\n",
       "    .dataframe tbody tr th:only-of-type {\n",
       "        vertical-align: middle;\n",
       "    }\n",
       "\n",
       "    .dataframe tbody tr th {\n",
       "        vertical-align: top;\n",
       "    }\n",
       "\n",
       "    .dataframe thead th {\n",
       "        text-align: right;\n",
       "    }\n",
       "</style>\n",
       "<table border=\"1\" class=\"dataframe\">\n",
       "  <thead>\n",
       "    <tr style=\"text-align: right;\">\n",
       "      <th></th>\n",
       "      <th>&lt;!DOCTYPE html&gt;</th>\n",
       "    </tr>\n",
       "  </thead>\n",
       "  <tbody>\n",
       "    <tr>\n",
       "      <th>0</th>\n",
       "      <td>&lt;html lang=\"fr\"&gt;</td>\n",
       "    </tr>\n",
       "    <tr>\n",
       "      <th>1</th>\n",
       "      <td>&lt;head&gt;</td>\n",
       "    </tr>\n",
       "    <tr>\n",
       "      <th>2</th>\n",
       "      <td>&lt;meta charset=\"utf-8\"&gt;</td>\n",
       "    </tr>\n",
       "    <tr>\n",
       "      <th>3</th>\n",
       "      <td>&lt;meta name=\"google-site-verification\" conten...</td>\n",
       "    </tr>\n",
       "    <tr>\n",
       "      <th>4</th>\n",
       "      <td>&lt;title&gt;Google Sheets vous permet de créer et...</td>\n",
       "    </tr>\n",
       "  </tbody>\n",
       "</table>\n",
       "</div>"
      ],
      "text/plain": [
       "                                     <!DOCTYPE html>\n",
       "0                                   <html lang=\"fr\">\n",
       "1                                             <head>\n",
       "2                             <meta charset=\"utf-8\">\n",
       "3    <meta name=\"google-site-verification\" conten...\n",
       "4    <title>Google Sheets vous permet de créer et..."
      ]
     },
     "execution_count": 15,
     "metadata": {},
     "output_type": "execute_result"
    }
   ],
   "source": [
    "test.head()"
   ]
  },
  {
   "cell_type": "code",
   "execution_count": null,
   "id": "6db4a3ce",
   "metadata": {},
   "outputs": [],
   "source": []
  }
 ],
 "metadata": {
  "kernelspec": {
   "display_name": "Python 3 (ipykernel)",
   "language": "python",
   "name": "python3"
  },
  "language_info": {
   "codemirror_mode": {
    "name": "ipython",
    "version": 3
   },
   "file_extension": ".py",
   "mimetype": "text/x-python",
   "name": "python",
   "nbconvert_exporter": "python",
   "pygments_lexer": "ipython3",
   "version": "3.9.7"
  }
 },
 "nbformat": 4,
 "nbformat_minor": 5
}
